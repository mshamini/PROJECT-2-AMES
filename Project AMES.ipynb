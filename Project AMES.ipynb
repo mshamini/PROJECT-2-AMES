{
 "cells": [
  {
   "cell_type": "markdown",
   "metadata": {},
   "source": [
    "#  <span style=\"color: DeepPink\"> AMES HOUSING</span>"
   ]
  },
  {
   "cell_type": "markdown",
   "metadata": {},
   "source": [
    "# <span style=\"color: blue\">EXPLORATORY DATA ANALYSIS ON AMES HOUSING</span>"
   ]
  },
  {
   "cell_type": "markdown",
   "metadata": {},
   "source": [
    "### <span style=\"color: blue\">Problem Statement: To be able to predict houses expected price.\n",
    "Using the predictors,we can predict the selling price of the houses.AMES housing  data set contains 80 features excluding the target feature SalePrice.Using Exploratory Data Analysis and Feature Engineering and \n",
    "Model benchmarking was done with reference to Ridge, Lasso modelling methods.Since there are so many features we will choose the different features to build a model that can be used. Success of the model is based upon a few features that gives the lowest error.Primary audience is the home owners who wishes to sell their homes and home buyers who will like to purchase homes.</span>"
   ]
  },
  {
   "cell_type": "markdown",
   "metadata": {},
   "source": [
    "  ## <span style=\"color: blue\">IMPORTING LIBRARY</span>"
   ]
  },
  {
   "cell_type": "code",
   "execution_count": null,
   "metadata": {},
   "outputs": [],
   "source": [
    "import pandas as pd\n",
    "import numpy as np\n",
    "import matplotlib.pyplot as plt\n",
    "import seaborn as sns \n",
    " \n",
    "\n",
    "from sklearn.preprocessing import  StandardScaler,PolynomialFeatures\n",
    "from sklearn.impute import SimpleImputer\n",
    "\n",
    "from sklearn.feature_selection import RFE\n",
    "from sklearn.model_selection import train_test_split, cross_val_score, KFold\n",
    "from sklearn.linear_model import LinearRegression, Ridge, RidgeCV, Lasso, LassoCV, ElasticNet\n",
    "\n",
    "\n",
    "from sklearn.metrics import mean_squared_error\n",
    "\n",
    "\n",
    "%matplotlib inline"
   ]
  },
  {
   "cell_type": "markdown",
   "metadata": {},
   "source": [
    " ## <span style=\"color: blue\">IMPORTING TRAIN DATASET</span>"
   ]
  },
  {
   "cell_type": "code",
   "execution_count": null,
   "metadata": {},
   "outputs": [],
   "source": [
    "df = pd.read_csv('train.csv')\n",
    "df.head()"
   ]
  },
  {
   "cell_type": "code",
   "execution_count": null,
   "metadata": {},
   "outputs": [],
   "source": [
    "test = pd.read_csv('test.csv')\n",
    "test.head(2)"
   ]
  },
  {
   "cell_type": "markdown",
   "metadata": {},
   "source": [
    "\n",
    "### <span style=\"color: blue\">DATA CLEANING AND CHECKING FOR NULL VALUES IN TRAIN DATASET</span>"
   ]
  },
  {
   "cell_type": "markdown",
   "metadata": {},
   "source": [
    "\n",
    "### <span style=\"color: blue\"> There are many null values for both train and test datasets. </span>"
   ]
  },
  {
   "cell_type": "code",
   "execution_count": null,
   "metadata": {},
   "outputs": [],
   "source": [
    "df.shape"
   ]
  },
  {
   "cell_type": "code",
   "execution_count": null,
   "metadata": {},
   "outputs": [],
   "source": [
    "test.shape"
   ]
  },
  {
   "cell_type": "code",
   "execution_count": null,
   "metadata": {},
   "outputs": [],
   "source": [
    "df.dtypes"
   ]
  },
  {
   "cell_type": "markdown",
   "metadata": {},
   "source": [
    "\n",
    "### <span style=\"color: blue\"> Some of these have a high percentage of nulls (such as ‘Pool Qc’ with 99.5% of values being nulls) and others have a low percentage. </span> \n",
    " \n",
    " "
   ]
  },
  {
   "cell_type": "code",
   "execution_count": null,
   "metadata": {},
   "outputs": [],
   "source": [
    "def missing(df):\n",
    "    total = df.isnull().sum().sort_values(ascending=False)\n",
    "    percent = (df.isnull().sum()/df.isnull().count()).sort_values(ascending=False)\n",
    "    missing_data = pd.concat([total, percent], axis=1, keys=['Total', 'Percent'])\n",
    "    \n",
    "    return missing_data.head(20)\n",
    "\n",
    "missing(df)"
   ]
  },
  {
   "cell_type": "markdown",
   "metadata": {},
   "source": [
    "\n",
    "### <span style=\"color: blue\">SPLIT TRAIN DATASET TO  CATEGORICAL AND NUMERIC DATA</span>"
   ]
  },
  {
   "cell_type": "code",
   "execution_count": null,
   "metadata": {},
   "outputs": [],
   "source": [
    "df.columns"
   ]
  },
  {
   "cell_type": "code",
   "execution_count": null,
   "metadata": {},
   "outputs": [],
   "source": [
    "#### Separate into nominal features and temp features\n",
    "#### 'Year Built','Year Remod/Add','Garage Yr Blt','Yr Sold' are the year sold will be analysing in the later part "
   ]
  },
  {
   "cell_type": "code",
   "execution_count": null,
   "metadata": {},
   "outputs": [],
   "source": [
    "nominal_features = ['Alley','Lot Shape','Land Contour',\n",
    "                   'Overall Cond','Roof Style','Roof Matl','Exterior 1st',\n",
    "                   'Exterior 2nd', 'Mas Vnr Type','Exter Qual',\n",
    "                   'Exter Cond','Utilities','Lot Config','Land Slope',\n",
    "                   'Neighborhood','Condition 1','Condition 2',\n",
    "                   'Bldg Type','House Style','Overall Qual','Foundation','Bsmt Qual','Bsmt Cond',\n",
    "                   'Bsmt Exposure','MS SubClass','MS Zoning','Street','BsmtFin Type 1','BsmtFin Type 2',\n",
    "                   'Heating','Heating QC','Central Air','Electrical',\n",
    "                   'Bsmt Full Bath','Bsmt Half Bath','Full Bath',\n",
    "                   'Half Bath','Bedroom AbvGr','Kitchen AbvGr','Kitchen Qual',\n",
    "                   'TotRms AbvGrd','Functional','Fireplaces',\n",
    "                   'Fireplace Qu','Garage Type',\n",
    "                   'Garage Finish','Garage Cars','Garage Qual',\n",
    "                   'Garage Cond','Paved Drive','Pool QC','Fence',\n",
    "                   'Misc Feature','Mo Sold',\n",
    "                   'Sale Type','Year Built','Year Remod/Add','Garage Yr Blt','Yr Sold']\n",
    "\n",
    "temp_features = ['Year Built','Year Remod/Add','Garage Yr Blt','Yr Sold']\n",
    "\n",
    "non_numeric_features  = nominal_features + temp_features\n",
    "\n",
    "# convert nominal features into category datatype\n",
    "for features in nominal_features:\n",
    "    df[features] = df[features].astype(\"category\")"
   ]
  },
  {
   "cell_type": "markdown",
   "metadata": {},
   "source": [
    "### <span style=\"color: blue\"> CHECKING FOR NUMERICAL CATEGORY AND DROPPING CERTAIN COLUMNS</span>\n"
   ]
  },
  {
   "cell_type": "markdown",
   "metadata": {},
   "source": [
    "#### <span style=\"color: blue\"> DROP 2 COLUMNS THAT ARE PID AND ID AS THEY DOES NOT SHOW THE RELATIONSHIP WITH SALEPRICE</span>"
   ]
  },
  {
   "cell_type": "code",
   "execution_count": null,
   "metadata": {},
   "outputs": [],
   "source": [
    "numerical_columns = [col for col in df.columns if col not in non_numeric_features]\n",
    "numerical_columns = [col for col in numerical_columns if col not in ['PID','Id']]"
   ]
  },
  {
   "cell_type": "code",
   "execution_count": null,
   "metadata": {},
   "outputs": [],
   "source": [
    "numerical_columns"
   ]
  },
  {
   "cell_type": "code",
   "execution_count": null,
   "metadata": {},
   "outputs": [],
   "source": [
    "df[numerical_columns].dtypes"
   ]
  },
  {
   "cell_type": "markdown",
   "metadata": {},
   "source": [
    "## <span style=\"color: blue\"> Neighbourhoods relationship with Saleprice. As seen from the bar plot , StoneBr, NridgeHt, NoRidge and Grnhill are neighbourhoods with higher SalePrice.BrDale,IDOTRR, Meadowv are the neighbourhoods with least median prices.\n",
    "</span>"
   ]
  },
  {
   "cell_type": "code",
   "execution_count": null,
   "metadata": {},
   "outputs": [],
   "source": [
    "plt.figure(figsize=(15,10))\n",
    "ax = df.groupby('Neighborhood').SalePrice.mean().sort_values(ascending=True).plot(kind='barh')\n",
    "ax.set_xlabel('Sale Price')\n",
    "ax.set_ylabel('Neighborhood')\n",
    "ax.set_title('Neighborhood Mean Price')"
   ]
  },
  {
   "cell_type": "markdown",
   "metadata": {},
   "source": [
    "## <span style=\"color: blue\"> SHOWING THE BOXPLOT OF ALL THE NOMINAL FEATURES IN RELATIONSHIP WITH SALEPRICE. THERE ARE SOME OUTLIERS THAT CAN ALSO BE SEEN IN THE BOXPLOT\n",
    "</span>"
   ]
  },
  {
   "cell_type": "code",
   "execution_count": null,
   "metadata": {},
   "outputs": [],
   "source": [
    "def subplot_boxplot(dataframe, list_of_columns,reference='SalePrice'):\n",
    "    nrows = int(np.ceil(len(list_of_columns)/2))  \n",
    "    fig, ax = plt.subplots(nrows=nrows, ncols=2,figsize = (15,100)) \n",
    "\n",
    "    ax = ax.ravel()\n",
    "    for i, column in enumerate(list_of_columns): \n",
    "        sns.boxplot(x=dataframe[column],y=dataframe[reference],ax=ax[i])"
   ]
  },
  {
   "cell_type": "code",
   "execution_count": null,
   "metadata": {},
   "outputs": [],
   "source": [
    "subplot_boxplot(df,nominal_features)"
   ]
  },
  {
   "cell_type": "markdown",
   "metadata": {},
   "source": [
    "## <span style=\"color: blue\"> As seen from the countplot, SalePrice has increased steadily with Year Built</span>"
   ]
  },
  {
   "cell_type": "code",
   "execution_count": null,
   "metadata": {},
   "outputs": [],
   "source": [
    "df['Year Built'].astype='int'"
   ]
  },
  {
   "cell_type": "code",
   "execution_count": null,
   "metadata": {},
   "outputs": [],
   "source": [
    "plt.figure(figsize=(10,5))\n",
    "ax = sns.countplot(df['Year Built'])"
   ]
  },
  {
   "cell_type": "code",
   "execution_count": null,
   "metadata": {},
   "outputs": [],
   "source": [
    "def subplot_boxplot(dataframe, list_of_columns,reference='SalePrice'):\n",
    "    nrows = int(np.ceil(len(list_of_columns)/2)) \n",
    "    fig, ax = plt.subplots(nrows=nrows, ncols=2,figsize = (15,100)) \n",
    "    \n",
    "\n",
    "    ax = ax.ravel()  \n",
    "    for i, column in enumerate(list_of_columns):  \n",
    "        sns.boxplot(x=dataframe[column],y=dataframe[reference],ax=ax[i])"
   ]
  },
  {
   "cell_type": "code",
   "execution_count": null,
   "metadata": {},
   "outputs": [],
   "source": [
    "def subplot_countplot(dataframe, list_of_columns):\n",
    "    nrows = int(np.ceil(len(list_of_columns)/2)) \n",
    "    fig, ax = plt.subplots(nrows=nrows, ncols=2,figsize = (15,100))  \n",
    "\n",
    "    ax = ax.ravel()  \n",
    "    for i, column in enumerate(list_of_columns):  \n",
    "        sns.countplot(x=dataframe[column],ax=ax[i])"
   ]
  },
  {
   "cell_type": "code",
   "execution_count": null,
   "metadata": {},
   "outputs": [],
   "source": [
    "subplot_countplot(df,nominal_features)"
   ]
  },
  {
   "cell_type": "markdown",
   "metadata": {},
   "source": [
    "### <span style=\"color: blue\"> Since garage has many columns such as Garage yr built, Garage Finish, Garage cars, Garage Area, Garage Qual, Garage condition, there is a need to drop columns that has been used for transformation.</span>"
   ]
  },
  {
   "cell_type": "code",
   "execution_count": null,
   "metadata": {},
   "outputs": [],
   "source": [
    "df.filter(regex='Year|Yr').describe()"
   ]
  },
  {
   "cell_type": "code",
   "execution_count": null,
   "metadata": {},
   "outputs": [],
   "source": [
    "df.filter(regex='Year|Yr|Garage').isna().sum()"
   ]
  },
  {
   "cell_type": "code",
   "execution_count": null,
   "metadata": {},
   "outputs": [],
   "source": [
    "df['Year Built'].dtypes"
   ]
  },
  {
   "cell_type": "code",
   "execution_count": null,
   "metadata": {},
   "outputs": [],
   "source": [
    "df['Year Remod/Add'].dtypes"
   ]
  },
  {
   "cell_type": "code",
   "execution_count": null,
   "metadata": {},
   "outputs": [],
   "source": [
    "df['garage_age'] = df.apply(lambda x: (x['Yr Sold'] - x['Year Remod/Add']) if type(x['Garage Yr Blt']) == 'nan' else (x['Yr Sold'] - x['Garage Yr Blt']) , axis=1)"
   ]
  },
  {
   "cell_type": "code",
   "execution_count": null,
   "metadata": {},
   "outputs": [],
   "source": [
    "df.garage_age.sort_values(ascending=True).head()"
   ]
  },
  {
   "cell_type": "code",
   "execution_count": null,
   "metadata": {},
   "outputs": [],
   "source": [
    "df.drop(columns=['Year Built','Year Remod/Add','Garage Yr Blt'])"
   ]
  },
  {
   "cell_type": "markdown",
   "metadata": {},
   "source": [
    "## <span style=\"color: blue\"> HEATMAP TO SHOW CORRELATION, PAIRPLOTS AND SCATTERPLOTS TO SHOW OUTLIERS AND REMOVE OUTLIERS.</span>"
   ]
  },
  {
   "cell_type": "code",
   "execution_count": null,
   "metadata": {},
   "outputs": [],
   "source": [
    "\n",
    "corr = df[numerical_columns].corr()\n",
    "mask = np.zeros_like(corr, dtype=np.bool)\n",
    "mask[np.triu_indices_from(mask)] = True\n",
    "f, ax = plt.subplots(figsize=(15, 15))\n",
    "cmap = sns.diverging_palette(220, 10, as_cmap=True)\n",
    "sns.heatmap(corr, mask=mask, cmap=cmap, center=0,\n",
    "            square=True, linewidths=.5, cbar_kws={\"shrink\": .5},annot=True)"
   ]
  },
  {
   "cell_type": "markdown",
   "metadata": {},
   "source": [
    "## FROM HEATMAP, GR LIV AREA IS IMPORTANT FEATURE. CERTAIN NUMERICAL CATEGORIES WITH LOW CORRELATION CAN BE DROPPED"
   ]
  },
  {
   "cell_type": "code",
   "execution_count": null,
   "metadata": {},
   "outputs": [],
   "source": [
    "sns.pairplot(df[numerical_columns])\n"
   ]
  },
  {
   "cell_type": "code",
   "execution_count": null,
   "metadata": {},
   "outputs": [],
   "source": []
  },
  {
   "cell_type": "markdown",
   "metadata": {},
   "source": [
    "## <span style=\"color: blue\"> There are 2 outliers that can be seen that is above 4000 sqft from Gr Liv Area</span>"
   ]
  },
  {
   "cell_type": "code",
   "execution_count": null,
   "metadata": {},
   "outputs": [],
   "source": [
    "sns.scatterplot(x='Gr Liv Area',y='SalePrice',data=df)\n"
   ]
  },
  {
   "cell_type": "code",
   "execution_count": null,
   "metadata": {},
   "outputs": [],
   "source": [
    "df = df[df['Gr Liv Area'] <= 4000]\n"
   ]
  },
  {
   "cell_type": "code",
   "execution_count": null,
   "metadata": {},
   "outputs": [],
   "source": [
    "\n",
    "df[numerical_columns]=df[numerical_columns].replace(np.nan,0)"
   ]
  },
  {
   "cell_type": "code",
   "execution_count": null,
   "metadata": {},
   "outputs": [],
   "source": [
    "df[nominal_features]=df[nominal_features].replace(np.nan,'missing')"
   ]
  },
  {
   "cell_type": "code",
   "execution_count": null,
   "metadata": {},
   "outputs": [],
   "source": [
    "def subplot_scatterplot(dataframe, list_of_columns,reference='SalePrice'):\n",
    "    nrows = int(np.ceil(len(list_of_columns)/2)) \n",
    "    fig, ax = plt.subplots(nrows=nrows, ncols=2,figsize = (15,100)) \n",
    "\n",
    "    ax = ax.ravel() \n",
    "    for i, column in enumerate(list_of_columns):\n",
    "        sns.scatterplot(x=dataframe[column],y=dataframe[reference],ax=ax[i])"
   ]
  },
  {
   "cell_type": "code",
   "execution_count": null,
   "metadata": {},
   "outputs": [],
   "source": [
    "subplot_scatterplot(df,numerical_columns)\n"
   ]
  },
  {
   "cell_type": "code",
   "execution_count": null,
   "metadata": {},
   "outputs": [],
   "source": [
    "df[numerical_columns].isna().sum()"
   ]
  },
  {
   "cell_type": "code",
   "execution_count": null,
   "metadata": {},
   "outputs": [],
   "source": [
    "combined_features = nominal_features + numerical_columns"
   ]
  },
  {
   "cell_type": "code",
   "execution_count": null,
   "metadata": {},
   "outputs": [],
   "source": [
    "\n",
    "df[combined_features].to_csv('/Users/shaminimagandran/Desktop/moditrain.csv')"
   ]
  },
  {
   "cell_type": "markdown",
   "metadata": {},
   "source": [
    "# <span style=\"color: red\"> Preproceesing andFeature_Engineering</span>"
   ]
  },
  {
   "cell_type": "code",
   "execution_count": null,
   "metadata": {},
   "outputs": [],
   "source": [
    "df1 =pd.read_csv('moditrain.csv')\n",
    "df1"
   ]
  },
  {
   "cell_type": "code",
   "execution_count": null,
   "metadata": {},
   "outputs": [],
   "source": [
    "df1.shape"
   ]
  },
  {
   "cell_type": "code",
   "execution_count": null,
   "metadata": {},
   "outputs": [],
   "source": [
    "df1.columns"
   ]
  },
  {
   "cell_type": "code",
   "execution_count": null,
   "metadata": {},
   "outputs": [],
   "source": [
    "df1.drop(columns=['Unnamed: 0'],inplace=True)"
   ]
  },
  {
   "cell_type": "code",
   "execution_count": null,
   "metadata": {},
   "outputs": [],
   "source": [
    "cat_features = ['Alley','Lot Shape','Land Contour',\n",
    "                   'Overall Cond','Roof Style','Roof Matl','Exterior 1st',\n",
    "                   'Exterior 2nd', 'Mas Vnr Type','Exter Qual',\n",
    "                   'Exter Cond','Utilities','Lot Config','Land Slope',\n",
    "                   'Neighborhood','Condition 1','Condition 2',\n",
    "                   'Bldg Type','House Style','Overall Qual','Foundation','Bsmt Qual','Bsmt Cond',\n",
    "                   'Bsmt Exposure','MS SubClass','MS Zoning','Street','BsmtFin Type 1','BsmtFin Type 2',\n",
    "                   'Heating','Heating QC','Central Air','Electrical',\n",
    "                   'Bsmt Full Bath','Bsmt Half Bath','Full Bath',\n",
    "                   'Half Bath','Bedroom AbvGr','Kitchen AbvGr','Kitchen Qual',\n",
    "                   'TotRms AbvGrd','Functional','Fireplaces',\n",
    "                   'Fireplace Qu','Garage Type',\n",
    "                   'Garage Finish','Garage Cars','Garage Qual',\n",
    "                   'Garage Cond','Paved Drive','Pool QC','Fence',\n",
    "                   'Misc Feature','Mo Sold',\n",
    "                   'Sale Type','Year Built','Year Remod/Add','Garage Yr Blt','Yr Sold']\n",
    "\n",
    "numerical_columns = ['Lot Frontage','Lot Area','Mas Vnr Area',\n",
    " 'BsmtFin SF 1','BsmtFin SF 2','Bsmt Unf SF',\n",
    " 'Total Bsmt SF','1st Flr SF','2nd Flr SF',\n",
    " 'Low Qual Fin SF','Gr Liv Area','Garage Area','Wood Deck SF',\n",
    " 'Open Porch SF','Enclosed Porch','3Ssn Porch',\n",
    " 'Screen Porch','Pool Area','Misc Val']"
   ]
  },
  {
   "cell_type": "markdown",
   "metadata": {},
   "source": [
    "\n",
    "\n",
    "# <span style=\"color: red\">COLUMNS FOR FEATURE SELECTION AND DROPPING OF COLUMNS</span>"
   ]
  },
  {
   "cell_type": "code",
   "execution_count": null,
   "metadata": {},
   "outputs": [],
   "source": [
    "df1['outdoor_SF'] = df1['Wood Deck SF'] + df1['Open Porch SF'] + df1['Screen Porch']"
   ]
  },
  {
   "cell_type": "code",
   "execution_count": null,
   "metadata": {},
   "outputs": [],
   "source": [
    "df1 = df1.drop(['Screen Porch','Wood Deck SF','Open Porch SF'],axis=1)"
   ]
  },
  {
   "cell_type": "code",
   "execution_count": null,
   "metadata": {},
   "outputs": [],
   "source": [
    "df1.head(2)"
   ]
  },
  {
   "cell_type": "code",
   "execution_count": null,
   "metadata": {},
   "outputs": [],
   "source": [
    "quality_codes = {\n",
    "    'Ex' : 5,\n",
    "    'Gd' : 4,\n",
    "    'TA' : 3,\n",
    "    'Fa' : 2,\n",
    "    'Po' : 1,\n",
    "    'NA' : 0,\n",
    "    'missing' :0,\n",
    "    np.nan : 0\n",
    "}"
   ]
  },
  {
   "cell_type": "code",
   "execution_count": null,
   "metadata": {},
   "outputs": [],
   "source": [
    "cat_quality_features = ['Exter Qual','Exter Cond','Bsmt Qual','Bsmt Cond','Heating QC','Kitchen Qual','Fireplace Qu',\n",
    "                           'Garage Qual', 'Garage Cond','Pool QC']"
   ]
  },
  {
   "cell_type": "code",
   "execution_count": null,
   "metadata": {},
   "outputs": [],
   "source": [
    "for feature in cat_quality_features:\n",
    "    df1[feature] = df1[feature].map(quality_codes)"
   ]
  },
  {
   "cell_type": "code",
   "execution_count": null,
   "metadata": {},
   "outputs": [],
   "source": [
    "df1['Bsmt Exposure'] = df1['Bsmt Exposure'].map({'Gd':5,'Av':4,'Mn':3,'No':2,'NA':1,'missing':0})"
   ]
  },
  {
   "cell_type": "code",
   "execution_count": null,
   "metadata": {},
   "outputs": [],
   "source": [
    "df1['Garage Finish'] = df1['Garage Finish'].map({'Fin':3,'Rfn':2,'Unf':1,'NA':0,'missing':0})"
   ]
  },
  {
   "cell_type": "code",
   "execution_count": null,
   "metadata": {},
   "outputs": [],
   "source": [
    "df1['Lot Shape'] = df1['Lot Shape'].map({'Reg':4,'IR1':3,'IR2':2,'IR3':1,'missing':0})\n"
   ]
  },
  {
   "cell_type": "code",
   "execution_count": null,
   "metadata": {},
   "outputs": [],
   "source": [
    "df1['house_score'] = df1['Overall Qual'] + df1['Overall Cond']\n",
    "df1['exter_score'] = df1['Exter Qual'] + df1['Exter Cond']\n",
    "df1['fireplace_score'] = df1['Fireplace Qu'] * df1['Fireplaces']\n",
    "df1['garage_score'] =  df1['Garage Qual'] + df1['Garage Cond'] + df1['Garage Finish'] \n",
    "df1['kitchen_score'] = df1['Kitchen AbvGr'] * df1['Kitchen Qual']\n",
    "df1['total_baths'] = df1['Full Bath'] + df1['Half Bath']\n",
    "df1['basement_score'] =   df1['Bsmt Cond'] + df1['Bsmt Qual']"
   ]
  },
  {
   "cell_type": "code",
   "execution_count": null,
   "metadata": {},
   "outputs": [],
   "source": [
    "df1.head(2)"
   ]
  },
  {
   "cell_type": "code",
   "execution_count": null,
   "metadata": {},
   "outputs": [],
   "source": [
    "aggregated_columns = [\"house_score\",\"exter_score\",\"fireplace_score\",\"garage_score\",\"kitchen_score\",\n",
    "                     \"total_baths\",\"basement_score\"]"
   ]
  },
  {
   "cell_type": "code",
   "execution_count": null,
   "metadata": {},
   "outputs": [],
   "source": [
    "columns_to_drop = [\"MS SubClass\",\"MS Zoning\",\"Street\",\"Alley\",\"Land Countour\",\n",
    "                  \"Overall Qual\",\"Overall Cond\",\"Full Bath\",\"Half Bath\",\n",
    "                   \"Utilities\",\"Land Slope\",\"Condition 1\",\n",
    "                  \"Condition 2\",\"Bldg Type\",\"Roof Matl\",\n",
    "                  \"Roof Style\",\"Exter Qual\",\"Exter Cond\",'Mas Vnr Type','Bsmt Cond',\n",
    "                  \"Bsmt Exposure\",\"BsmtFin Type 1\",\"Bsmt Qual\",\"BsmtFin Type 2\",\"Heating\",\n",
    "                  \"Electrical\",\"Bsmt Half Bath\",\"Kitchen AbvGr\",\"Kitchen Qual\",\n",
    "                  \"Functional\",\"Fireplace Qu\",\"Fireplaces\",\"Garage Qual\",\"Garage Cond\",\"Garage Finish\",\"Garage Cars\",\n",
    "                  \"Paved Drive\",\"Pool QC\",\"Fence\",\"Misc Feature\",\"Sale Type\",\"Neighborhood\",\"Foundation\",\n",
    "                  \"Exterior 1st\" , \"Exterior 2nd\",\"Bsmt Full Bath\", \"Garage Type\" , \"Lot Config\"]"
   ]
  },
  {
   "cell_type": "code",
   "execution_count": null,
   "metadata": {},
   "outputs": [],
   "source": [
    "feature_new = [col for col in cat_features if col not in columns_to_drop]\n"
   ]
  },
  {
   "cell_type": "code",
   "execution_count": null,
   "metadata": {},
   "outputs": [],
   "source": [
    "feature_new.extend(aggregated_columns)"
   ]
  },
  {
   "cell_type": "code",
   "execution_count": null,
   "metadata": {},
   "outputs": [],
   "source": [
    "feature_new"
   ]
  },
  {
   "cell_type": "code",
   "execution_count": null,
   "metadata": {},
   "outputs": [],
   "source": [
    "feature_new.append('Gr Liv Area')"
   ]
  },
  {
   "cell_type": "code",
   "execution_count": null,
   "metadata": {},
   "outputs": [],
   "source": [
    "feature_new.append('Mas Vnr Area')"
   ]
  },
  {
   "cell_type": "code",
   "execution_count": null,
   "metadata": {},
   "outputs": [],
   "source": [
    "feature_new.append('Total Bsmt SF')"
   ]
  },
  {
   "cell_type": "code",
   "execution_count": null,
   "metadata": {},
   "outputs": [],
   "source": [
    "feature_new.append('SalePrice') \n"
   ]
  },
  {
   "cell_type": "code",
   "execution_count": null,
   "metadata": {},
   "outputs": [],
   "source": [
    "corr_new = df1[feature_new].corr()\n"
   ]
  },
  {
   "cell_type": "code",
   "execution_count": null,
   "metadata": {},
   "outputs": [],
   "source": [
    "plt.figure(figsize=(12, 9))\n",
    "\n",
    "sns.heatmap(df1[feature_new].corr(), annot = True) "
   ]
  },
  {
   "cell_type": "code",
   "execution_count": null,
   "metadata": {},
   "outputs": [],
   "source": [
    "df1[feature_new].to_csv('featurenew.csv')\n"
   ]
  },
  {
   "cell_type": "markdown",
   "metadata": {},
   "source": [
    "# <span style=\"color: green\">   LINEAR, LASSO AND RIDGE REGRESSION MODELS </span>"
   ]
  },
  {
   "cell_type": "markdown",
   "metadata": {},
   "source": [
    "## <span style=\"color: green\"> TRAIN TEST SPLIT   </span>"
   ]
  },
  {
   "cell_type": "code",
   "execution_count": null,
   "metadata": {},
   "outputs": [],
   "source": [
    "df2 = pd.read_csv('featurenew.csv')\n",
    "df2.head(2)"
   ]
  },
  {
   "cell_type": "code",
   "execution_count": null,
   "metadata": {},
   "outputs": [],
   "source": [
    "df2.columns"
   ]
  },
  {
   "cell_type": "code",
   "execution_count": null,
   "metadata": {},
   "outputs": [],
   "source": [
    "df2.columns\n",
    "df2.isnull().sum()"
   ]
  },
  {
   "cell_type": "code",
   "execution_count": null,
   "metadata": {},
   "outputs": [],
   "source": [
    "\n",
    "y = df2['SalePrice']\n",
    "features = [col for col in df2.columns if col != 'SalePrice']\n",
    "X = df2[features] "
   ]
  },
  {
   "cell_type": "code",
   "execution_count": null,
   "metadata": {},
   "outputs": [],
   "source": [
    "X.columns"
   ]
  },
  {
   "cell_type": "code",
   "execution_count": null,
   "metadata": {},
   "outputs": [],
   "source": [
    "X.isnull().sum().sort_values(ascending=False).head()"
   ]
  },
  {
   "cell_type": "markdown",
   "metadata": {},
   "source": [
    "# <span style=\"color: green\">  TRAIN TEST SPLIT AND CHECKING OF X- TRAIN AND X-TEST SHAPE</span>"
   ]
  },
  {
   "cell_type": "code",
   "execution_count": null,
   "metadata": {},
   "outputs": [],
   "source": [
    "X_train,X_test,y_train,y_test = train_test_split(X,y,test_size=0.3,random_state=42)"
   ]
  },
  {
   "cell_type": "code",
   "execution_count": null,
   "metadata": {},
   "outputs": [],
   "source": [
    "X_train.columns"
   ]
  },
  {
   "cell_type": "code",
   "execution_count": null,
   "metadata": {},
   "outputs": [],
   "source": [
    "new = df2.drop(columns=['Unnamed: 0','Central Air', 'Total Bsmt SF', 'Lot Shape', 'Land Contour','garage_score','House Style','Year Built', 'Year Remod/Add', 'Garage Yr Blt', 'Yr Sold','Mas Vnr Area', 'Lot Shape'], axis =1)\n",
    "new.head()"
   ]
  },
  {
   "cell_type": "code",
   "execution_count": null,
   "metadata": {},
   "outputs": [],
   "source": [
    "new.columns"
   ]
  },
  {
   "cell_type": "code",
   "execution_count": null,
   "metadata": {},
   "outputs": [],
   "source": [
    "df2[new.columns].dtypes\n"
   ]
  },
  {
   "cell_type": "code",
   "execution_count": null,
   "metadata": {},
   "outputs": [],
   "source": [
    "y = df2['SalePrice']\n",
    "features = [col for col in df2[new.columns] if col != 'SalePrice']\n",
    "X = df2[features]\n"
   ]
  },
  {
   "cell_type": "code",
   "execution_count": null,
   "metadata": {},
   "outputs": [],
   "source": [
    "X.columns"
   ]
  },
  {
   "cell_type": "markdown",
   "metadata": {},
   "source": [
    "## <span style=\"color: green\">  TEST DATA PREPROCESSING  </span>"
   ]
  },
  {
   "cell_type": "code",
   "execution_count": null,
   "metadata": {},
   "outputs": [],
   "source": [
    "test_model = pd.read_csv(\"test.csv\")\n",
    "test_model.head(2)"
   ]
  },
  {
   "cell_type": "code",
   "execution_count": null,
   "metadata": {},
   "outputs": [],
   "source": [
    "test_model['outdoor_SF'] = test_model['Wood Deck SF'] + test_model['Open Porch SF'] + test_model['Screen Porch']"
   ]
  },
  {
   "cell_type": "code",
   "execution_count": null,
   "metadata": {},
   "outputs": [],
   "source": [
    "test_model= test_model.drop(['Screen Porch','Wood Deck SF','Open Porch SF'],axis=1)"
   ]
  },
  {
   "cell_type": "code",
   "execution_count": null,
   "metadata": {},
   "outputs": [],
   "source": [
    "quality_codes = {\n",
    "    'Ex' : 5,\n",
    "    'Gd' : 4,\n",
    "    'TA' : 3,\n",
    "    'Fa' : 2,\n",
    "    'Po' : 1,\n",
    "    'NA' : 0,\n",
    "    'missing' :0,\n",
    "    np.nan : 0\n",
    "}"
   ]
  },
  {
   "cell_type": "code",
   "execution_count": null,
   "metadata": {},
   "outputs": [],
   "source": [
    "test_cat_quality_features = ['Exter Qual','Exter Cond','Bsmt Qual','Bsmt Cond','Heating QC','Kitchen Qual','Fireplace Qu',\n",
    "                           'Garage Qual', 'Garage Cond','Pool QC']"
   ]
  },
  {
   "cell_type": "code",
   "execution_count": null,
   "metadata": {},
   "outputs": [],
   "source": [
    "for feature in test_cat_quality_features:\n",
    "    test_model[feature] = test_model[feature].map(quality_codes)"
   ]
  },
  {
   "cell_type": "code",
   "execution_count": null,
   "metadata": {},
   "outputs": [],
   "source": [
    "test_model['Bsmt Exposure'] = test_model['Bsmt Exposure'].map({'Gd':5,'Av':4,'Mn':3,'No':2,'NA':1,'missing':0})\n"
   ]
  },
  {
   "cell_type": "code",
   "execution_count": null,
   "metadata": {},
   "outputs": [],
   "source": [
    "test_model['Garage Finish'] = test_model['Garage Finish'].map({'Fin':3,'Rfn':2,'Unf':1,'NA':0,'missing':0})\n"
   ]
  },
  {
   "cell_type": "code",
   "execution_count": null,
   "metadata": {},
   "outputs": [],
   "source": [
    "test_model['Lot Shape'] = test_model['Lot Shape'].map({'Reg':4,'IR1':3,'IR2':2,'IR3':1,'missing':0})\n"
   ]
  },
  {
   "cell_type": "code",
   "execution_count": null,
   "metadata": {},
   "outputs": [],
   "source": [
    "test_model['house_score'] = test_model['Overall Qual'] + test_model['Overall Cond']\n",
    "test_model['exter_score'] = test_model['Exter Qual'] + test_model['Exter Cond']\n",
    "test_model['fireplace_score'] = test_model['Fireplace Qu'] * test_model['Fireplaces']\n",
    "test_model['garage_score'] =  test_model['Garage Qual'] + test_model['Garage Cond'] + test_model['Garage Finish'] \n",
    "test_model['kitchen_score'] = test_model['Kitchen AbvGr'] * test_model['Kitchen Qual']\n",
    "test_model['total_baths'] = test_model['Full Bath'] + test_model['Half Bath']\n",
    "test_model['basement_score'] =   test_model['Bsmt Cond'] + test_model['Bsmt Qual']"
   ]
  },
  {
   "cell_type": "code",
   "execution_count": null,
   "metadata": {},
   "outputs": [],
   "source": [
    "test_aggregated_columns = [\"house_score\",\"exter_score\",\"fireplace_score\",\"garage_score\",\"kitchen_score\",\n",
    "                     \"total_baths\",\"basement_score\"]"
   ]
  },
  {
   "cell_type": "code",
   "execution_count": null,
   "metadata": {},
   "outputs": [],
   "source": [
    "columns_to_drop = [\"MS SubClass\",\"MS Zoning\",\"Street\",\"Alley\",\"Land Countour\",\n",
    "                  \"Overall Qual\",\"Overall Cond\",\"Full Bath\",\"Half Bath\",\n",
    "                   \"Utilities\",\"Land Slope\",\"Condition 1\",\n",
    "                  \"Condition 2\",\"Bldg Type\",\"Roof Matl\",\n",
    "                  \"Roof Style\",\"Exter Qual\",\"Exter Cond\",'Mas Vnr Type','Bsmt Cond',\n",
    "                  \"Bsmt Exposure\",\"BsmtFin Type 1\",\"Bsmt Qual\",\"BsmtFin Type 2\",\"Heating\",\n",
    "                  \"Electrical\",\"Bsmt Half Bath\",\"Kitchen AbvGr\",\"Kitchen Qual\",\n",
    "                  \"Functional\",\"Fireplace Qu\",\"Fireplaces\",\"Garage Qual\",\"Garage Cond\",\"Garage Finish\",\"Garage Cars\",\n",
    "                  \"Paved Drive\",\"Pool QC\",\"Fence\",\"Misc Feature\",\"Sale Type\",\"Neighborhood\",\"Foundation\",\n",
    "                  \"Exterior 1st\" , \"Exterior 2nd\",\"Bsmt Full Bath\", \"Garage Type\" , \"Lot Config\"]"
   ]
  },
  {
   "cell_type": "code",
   "execution_count": null,
   "metadata": {},
   "outputs": [],
   "source": [
    "test_feature_new = [col for col in test_cat_quality_features if col not in columns_to_drop]\n"
   ]
  },
  {
   "cell_type": "code",
   "execution_count": null,
   "metadata": {},
   "outputs": [],
   "source": [
    "test_feature_new.extend(test_aggregated_columns)\n"
   ]
  },
  {
   "cell_type": "code",
   "execution_count": null,
   "metadata": {},
   "outputs": [],
   "source": [
    "test_model[test_feature_new].to_csv('/Users/shaminimagandran/Desktop/testfeaturenew.csv')\n"
   ]
  },
  {
   "cell_type": "markdown",
   "metadata": {},
   "source": [
    "## <span style=\"color: Magenta\">   DEFINING X AND Y VARIABLES  </span>"
   ]
  },
  {
   "cell_type": "code",
   "execution_count": null,
   "metadata": {},
   "outputs": [],
   "source": [
    "y = df2['SalePrice']\n",
    "features = [col for col in df2[features] if col != 'SalePrice']\n",
    "X = df2[features]"
   ]
  },
  {
   "cell_type": "markdown",
   "metadata": {},
   "source": [
    "\n",
    "## <span style=\"color: Magenta\">   The dataset was fairly messy with regard to the number of missing values and the way levels of categorical variables were organized and coded. In order to tackle the large amount of cleaning required, we thought it was best to split the data </span>"
   ]
  },
  {
   "cell_type": "code",
   "execution_count": null,
   "metadata": {},
   "outputs": [],
   "source": [
    "X_train, X_test, y_train, y_test = train_test_split(X, y, test_size = 0.30, random_state = 43)"
   ]
  },
  {
   "cell_type": "code",
   "execution_count": null,
   "metadata": {},
   "outputs": [],
   "source": [
    "ss = StandardScaler()\n",
    "X_train_scaled = ss.fit_transform(X_train)\n"
   ]
  },
  {
   "cell_type": "code",
   "execution_count": null,
   "metadata": {},
   "outputs": [],
   "source": [
    "ss = StandardScaler()\n",
    "X_test_scaled = ss.fit_transform(X_test)\n"
   ]
  },
  {
   "cell_type": "markdown",
   "metadata": {},
   "source": [
    "## <span style=\"color: MediumTurquoise\">   LINEAR MODEL, FIT AND PREDICT </span>"
   ]
  },
  {
   "cell_type": "code",
   "execution_count": null,
   "metadata": {},
   "outputs": [],
   "source": [
    "test_model = pd.read_csv(\"/Users/shaminimagandran/Desktop/test.csv\")\n",
    "test_model.head()"
   ]
  },
  {
   "cell_type": "markdown",
   "metadata": {},
   "source": [
    "\n",
    "## <span style=\"color: Magenta\"> Calculating R2 score </span>"
   ]
  },
  {
   "cell_type": "markdown",
   "metadata": {},
   "source": [
    "###  This shows that despite the high number of predictors variables in the model  we have not been penalized heavily since most variables account for a significant amount of variance in sale price. We can further simplify and improve this model by dropping highly correlated variables and insignificant predictors."
   ]
  },
  {
   "cell_type": "code",
   "execution_count": null,
   "metadata": {},
   "outputs": [],
   "source": [
    "test_model.shape"
   ]
  },
  {
   "cell_type": "code",
   "execution_count": null,
   "metadata": {},
   "outputs": [],
   "source": [
    "lr_submission = LinearRegression().fit(X_train_scaled,y_train)\n"
   ]
  },
  {
   "cell_type": "code",
   "execution_count": null,
   "metadata": {},
   "outputs": [],
   "source": [
    "lr = LinearRegression()\n",
    "model = lr.fit(X_train,y_train)\n",
    "print(model.score(X_train,y_train))\n",
    "cross_val_score(LinearRegression(), X_train, y_train,cv=4)\n"
   ]
  },
  {
   "cell_type": "code",
   "execution_count": null,
   "metadata": {},
   "outputs": [],
   "source": [
    "print(model.score(X_test,y_test))\n",
    "y_predict = model.predict(X_test)\n",
    "np.sqrt(mean_squared_error(y_test,y_predict))\n"
   ]
  },
  {
   "cell_type": "markdown",
   "metadata": {},
   "source": [
    "# <span style=\"color: Tomato\">  Cross Validation and kfold </span>"
   ]
  },
  {
   "cell_type": "code",
   "execution_count": null,
   "metadata": {},
   "outputs": [],
   "source": [
    "kf = KFold(n_splits=5, shuffle=True, random_state=42)\n",
    "cross_val_score(lr, X_train_scaled, y_train, cv=kf).mean()\n"
   ]
  },
  {
   "cell_type": "markdown",
   "metadata": {},
   "source": [
    "# <span style=\"color: RoyalBlue\"> Ridge </span>"
   ]
  },
  {
   "cell_type": "code",
   "execution_count": null,
   "metadata": {},
   "outputs": [],
   "source": [
    "ridge_model = Ridge()"
   ]
  },
  {
   "cell_type": "code",
   "execution_count": null,
   "metadata": {},
   "outputs": [],
   "source": [
    "ridge_model = ridge_model.fit(X_train,y_train)"
   ]
  },
  {
   "cell_type": "code",
   "execution_count": null,
   "metadata": {},
   "outputs": [],
   "source": [
    "y_predict_ridge = ridge_model.predict(X_test) "
   ]
  },
  {
   "cell_type": "code",
   "execution_count": null,
   "metadata": {},
   "outputs": [],
   "source": [
    "np.sqrt(mean_squared_error(y_test,y_predict_ridge))"
   ]
  },
  {
   "cell_type": "markdown",
   "metadata": {},
   "source": [
    " # <span style=\"color: DarkMagenta\">  Lasso Model </span>"
   ]
  },
  {
   "cell_type": "code",
   "execution_count": null,
   "metadata": {},
   "outputs": [],
   "source": [
    "lasso = Lasso()"
   ]
  },
  {
   "cell_type": "code",
   "execution_count": null,
   "metadata": {},
   "outputs": [],
   "source": [
    "lasso_model = lasso.fit(X_train,y_train)\n"
   ]
  },
  {
   "cell_type": "code",
   "execution_count": null,
   "metadata": {},
   "outputs": [],
   "source": [
    "y_predict_lasso = lasso_model.predict(X_test)\n"
   ]
  },
  {
   "cell_type": "code",
   "execution_count": null,
   "metadata": {},
   "outputs": [],
   "source": [
    "np.sqrt(mean_squared_error(y_test,y_predict_lasso))\n"
   ]
  },
  {
   "cell_type": "markdown",
   "metadata": {},
   "source": [
    "# <span style=\"color: blue\"> Conclusion and Recommendations</span>\n"
   ]
  },
  {
   "cell_type": "markdown",
   "metadata": {},
   "source": [
    "### RMSE results are better both on training and test sets.There are some Neighborhood categories that are interesting.House prices change a whole lot from one neighborhood to another in the same city.\n",
    "\n",
    "### Putting time and effort into preparing the dataset and optimizing the  models resulted in a decent score. However, it is more important to have a more comprehensive features that includes more features on the house keeping in mind the more important features that home buyers are looking for. \n",
    "\n",
    "### The ridge model performed the best in giving the lowest error.\n",
    "\n",
    "### My columns used in anlaysis: 'Heating QC', 'Bedroom AbvGr', 'TotRms AbvGrd', 'Mo Sold','house_score', 'exter_score', 'fireplace_score', 'kitchen_score','total_baths', 'basement_score', 'Gr Liv Area'\n",
    "\n",
    "### This is a combination of some of the features of the house. The score can be improved however this is a more holistic view on all the aspects of the house.\n",
    "\n",
    "### The biggest takeaways for me were that square footage, quality / condition, quality of materials, neighborhood, and number of bathrooms are very important factors for sale prices from correlation and heatmaps and value counts. However, other attributes should be considered for home owners looking to sell and home buyers looking to buy\n"
   ]
  },
  {
   "cell_type": "markdown",
   "metadata": {},
   "source": [
    "# <span style=\"color: blue\"> Limitations </span>"
   ]
  },
  {
   "cell_type": "markdown",
   "metadata": {},
   "source": [
    "### I would recommend removing any houses with more than 4000 square feet from the data set (which eliminates these 5 unusual observations) before assigning it to students.\n",
    "### There were many missing and nan values.If we have numeric data with a normal distribution, dealing with nulls can be relatively simple; we can impute mean or median values for the nulls. However, for this dataset, there are surprisingly few nulls in the numeric data. \n",
    "### There are also categorical data hence null values have to be addressed as well.\n"
   ]
  },
  {
   "cell_type": "code",
   "execution_count": null,
   "metadata": {},
   "outputs": [],
   "source": []
  },
  {
   "cell_type": "code",
   "execution_count": null,
   "metadata": {},
   "outputs": [],
   "source": []
  },
  {
   "cell_type": "code",
   "execution_count": null,
   "metadata": {},
   "outputs": [],
   "source": []
  },
  {
   "cell_type": "code",
   "execution_count": null,
   "metadata": {},
   "outputs": [],
   "source": []
  },
  {
   "cell_type": "code",
   "execution_count": null,
   "metadata": {},
   "outputs": [],
   "source": []
  },
  {
   "cell_type": "code",
   "execution_count": null,
   "metadata": {},
   "outputs": [],
   "source": []
  },
  {
   "cell_type": "code",
   "execution_count": null,
   "metadata": {},
   "outputs": [],
   "source": []
  },
  {
   "cell_type": "code",
   "execution_count": null,
   "metadata": {},
   "outputs": [],
   "source": []
  }
 ],
 "metadata": {
  "kernelspec": {
   "display_name": "Python 3",
   "language": "python",
   "name": "python3"
  },
  "language_info": {
   "codemirror_mode": {
    "name": "ipython",
    "version": 3
   },
   "file_extension": ".py",
   "mimetype": "text/x-python",
   "name": "python",
   "nbconvert_exporter": "python",
   "pygments_lexer": "ipython3",
   "version": "3.7.3"
  }
 },
 "nbformat": 4,
 "nbformat_minor": 2
}
